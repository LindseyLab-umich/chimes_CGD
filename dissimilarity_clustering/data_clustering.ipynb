{
 "cells": [
  {
   "cell_type": "code",
   "execution_count": 4,
   "metadata": {},
   "outputs": [],
   "source": [
    "import pickle\n",
    "import numpy as np\n",
    "import os\n",
    "import pandas as pd"
   ]
  },
  {
   "cell_type": "code",
   "execution_count": 7,
   "metadata": {},
   "outputs": [
    {
     "name": "stdout",
     "output_type": "stream",
     "text": [
      "(12, 60, 1)\n",
      "         0         1         2         3         4         5         6   \\\n",
      "0  0.026079  0.025921  0.047063  0.025353  0.031944  0.051901  0.046078   \n",
      "1  0.005783  0.021025  0.035666  0.044783  0.050437  0.052678  0.051657   \n",
      "2  0.007864  0.024846  0.033409  0.035903  0.031965  0.025288  0.019094   \n",
      "3  0.005685  0.020559  0.031019  0.035968  0.036767  0.034745  0.031928   \n",
      "4  0.006422  0.026749  0.042362  0.050102  0.052881  0.052923  0.051452   \n",
      "\n",
      "         7         8         9   ...        50        51        52        53  \\\n",
      "0  0.051090  0.032311  0.039108  ...  0.000571  0.000755  0.000787  0.000797   \n",
      "1  0.049406  0.046778  0.043766  ...  0.000672  0.000654  0.000639  0.000621   \n",
      "2  0.015484  0.014328  0.015825  ...  0.003933  0.003875  0.004057  0.004095   \n",
      "3  0.029755  0.028762  0.028699  ...  0.002004  0.001894  0.001868  0.001842   \n",
      "4  0.049246  0.046625  0.043784  ...  0.000741  0.000646  0.000567  0.000499   \n",
      "\n",
      "         54        55        56        57        58            59  \n",
      "0  0.000466  0.000149  0.000066  0.000017  0.000002  1.168175e-07  \n",
      "1  0.000593  0.000544  0.000477  0.000392  0.000300  2.133570e-04  \n",
      "2  0.003959  0.003482  0.002865  0.002454  0.002366  2.463932e-03  \n",
      "3  0.001799  0.001745  0.001640  0.001501  0.001333  1.132820e-03  \n",
      "4  0.000435  0.000372  0.000317  0.000265  0.000217  1.746338e-04  \n",
      "\n",
      "[5 rows x 60 columns]\n"
     ]
    }
   ],
   "source": [
    "with open(\"avg_pd_equilibrium\", 'rb') as pickle_file:\n",
    "    avg_pd = pickle.load(pickle_file)\n",
    "\n",
    "# Confirmation of appropriate loading\n",
    "print(np.shape(avg_pd))\n",
    "\n",
    "# Reshape the array to (12, 60) before creating the DataFrame\n",
    "reshaped_data = np.array(avg_pd).reshape(12, 60)\n",
    "\n",
    "# Create a DataFrame\n",
    "df = pd.DataFrame(reshaped_data)\n",
    "\n",
    "# Print the DataFrame\n",
    "print(df.head())\n",
    "\n",
    "# SVD Decomposition\n",
    "U, S, Vt = np.linalg.svd(df, full_matrices=False)"
   ]
  },
  {
   "cell_type": "code",
   "execution_count": null,
   "metadata": {},
   "outputs": [],
   "source": []
  }
 ],
 "metadata": {
  "kernelspec": {
   "display_name": "base",
   "language": "python",
   "name": "python3"
  },
  "language_info": {
   "codemirror_mode": {
    "name": "ipython",
    "version": 3
   },
   "file_extension": ".py",
   "mimetype": "text/x-python",
   "name": "python",
   "nbconvert_exporter": "python",
   "pygments_lexer": "ipython3",
   "version": "3.11.5"
  }
 },
 "nbformat": 4,
 "nbformat_minor": 2
}
