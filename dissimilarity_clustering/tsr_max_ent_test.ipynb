{
 "cells": [
  {
   "cell_type": "code",
   "execution_count": 1,
   "metadata": {},
   "outputs": [],
   "source": [
    "import pickle\n",
    "import os\n",
    "import numpy as np\n",
    "import pandas as pd\n",
    "import matplotlib.pyplot as plt\n",
    "import copy"
   ]
  },
  {
   "cell_type": "code",
   "execution_count": 2,
   "metadata": {},
   "outputs": [
    {
     "name": "stdout",
     "output_type": "stream",
     "text": [
      "Current working directory: /Users/blaubach/chimes_CGD-myLLFork/dissimilarity_clustering\n"
     ]
    }
   ],
   "source": [
    "current_directory = os.getcwd()\n",
    "print(\"Current working directory:\", current_directory)"
   ]
  },
  {
   "cell_type": "code",
   "execution_count": 3,
   "metadata": {},
   "outputs": [
    {
     "name": "stdout",
     "output_type": "stream",
     "text": [
      "training_data_#0000.xyz\n",
      "training_data_#0050.xyz\n",
      "training_data_#0055.xyz\n",
      "training_data_#0060.xyz\n",
      "training_data_#0075.xyz\n",
      "training_data_#0080.xyz\n",
      "training_data_#0110.xyz\n",
      "(300, 180)\n"
     ]
    }
   ],
   "source": [
    "# Get the current working directory\n",
    "cwd = os.getcwd()\n",
    "\n",
    "# Define file paths with cwd appended\n",
    "file_path_2b = os.path.join(cwd, \"dft_pds/2b_all_pd\")\n",
    "file_path_3b = os.path.join(cwd, \"dft_pds/3b_all_pd\")\n",
    "file_path_4b = os.path.join(cwd, \"dft_pds/4b_all_pd\")\n",
    "file_path_labels = os.path.join(cwd, \"dft_pds/labels_pd\")\n",
    "file_path_natoms = os.path.join(cwd, \"test_notebooks/energies_per_atom.txt\")\n",
    "\n",
    "# Open pickle files with the updated file paths\n",
    "with open(file_path_2b, 'rb') as pickle_file:\n",
    "    pd_2b = pickle.load(pickle_file)\n",
    "\n",
    "with open(file_path_3b, 'rb') as pickle_file:\n",
    "    pd_3b = pickle.load(pickle_file)\n",
    "\n",
    "with open(file_path_4b, 'rb') as pickle_file:\n",
    "    pd_4b = pickle.load(pickle_file)\n",
    "\n",
    "with open(file_path_labels, 'rb') as pickle_file:\n",
    "    labels = pickle.load(pickle_file)\n",
    "\n",
    "natom_list = []\n",
    "\n",
    "# Open the text file for reading\n",
    "with open(file_path_natoms, 'r') as file:\n",
    "\n",
    "    # Read the contents of the file\n",
    "    lines = file.readlines()[1:]\n",
    "\n",
    "    # Iterate through each line\n",
    "    for line in lines:\n",
    "\n",
    "        # Split the line into words\n",
    "        words = line.split()\n",
    "        natoms = line.split(\"|\")[1].strip()\n",
    "\n",
    "        # Extract the last word, assuming it's a number\n",
    "        last_number = float(words[-1])\n",
    "        if words[0][-1] == 'z':\n",
    "            print(words[0])\n",
    "            continue\n",
    "        natom_list.append(natoms)\n",
    "\n",
    "natom_list = np.array(natom_list[:-10])\n",
    "\n",
    "# Combine the arrays along the second axis (axis=1)\n",
    "all_array = np.concatenate((pd_2b, pd_3b, pd_4b), axis=2)\n",
    "all_array = all_array.reshape(-1, all_array.shape[2])\n",
    "print(np.shape(all_array))\n",
    "df_fingerprints = pd.DataFrame(all_array)\n",
    "\n",
    "# Define the column labels for each set of columns\n",
    "column_labels_2b = [f'2B_{i}' for i in range(60)]\n",
    "column_labels_3b = [f'3B_{i}' for i in range(60)]\n",
    "column_labels_4b = [f'4B_{i}' for i in range(60)]\n",
    "\n",
    "# Assign the column labels to the DataFrame\n",
    "column_labels = column_labels_2b + column_labels_3b + column_labels_4b\n",
    "df_fingerprints.columns = column_labels\n",
    "\n",
    "# Add a new column \"labels\" to the DataFrame and assign the new vector to it\n",
    "df_fingerprints['labels'] = labels\n",
    "\n",
    "# Calculate the row-wise mean using `mean(axis=1)`\n",
    "row_avg = df_fingerprints.mean(axis=1)\n",
    "\n",
    "# Append the calculated row-wise mean as a new column named \"Pavg\"\n",
    "df_fingerprints['Pavg'] = row_avg\n",
    "\n",
    "# Calculate the row-wise standard deviation using `std(axis=1)`\n",
    "row_std = df_fingerprints.std(axis=1)\n",
    "\n",
    "# Append the calculated row-wise standard deviation as a new column named \"Pstd\"\n",
    "df_fingerprints['Pstd'] = row_std\n",
    "\n",
    "# Append Natoms to Dataframe\n",
    "df_fingerprints['Natoms'] = natom_list\n"
   ]
  },
  {
   "cell_type": "code",
   "execution_count": 4,
   "metadata": {},
   "outputs": [
    {
     "name": "stdout",
     "output_type": "stream",
     "text": [
      "[[0.83610179 0.81729941 0.81652172 ... 0.01457645 0.01439321 0.01449416]\n",
      " [0.81729941 0.83588982 0.8350873  ... 0.01536529 0.01517977 0.01528734]\n",
      " [0.81652172 0.8350873  0.83587366 ... 0.01540713 0.01522133 0.01532995]\n",
      " ...\n",
      " [0.01457645 0.01536529 0.01540713 ... 0.00547451 0.00547592 0.00547502]\n",
      " [0.01439321 0.01517977 0.01522133 ... 0.00547592 0.00547899 0.00547697]\n",
      " [0.01449416 0.01528734 0.01532995 ... 0.00547502 0.00547697 0.00547584]]\n"
     ]
    }
   ],
   "source": [
    "# Initialize the minimum occurrence count required\n",
    "def compute_pij(phi1, phi2):\n",
    "\n",
    "    # Compute statistics for training set\n",
    "    phi1_fingerprint = phi1.iloc[:-4]\n",
    "    avg_phi1 = phi1.iloc[-3]\n",
    "    std_phi1 = phi1.iloc[-2]\n",
    "    natoms_phi1 = float(phi1.iloc[-1])\n",
    "\n",
    "    # Compute statistics for phi2\n",
    "    phi2_fingerprint = phi2.iloc[:-4]\n",
    "    avg_phi2 = phi2.iloc[-3]\n",
    "    std_phi2 = phi2.iloc[-2]\n",
    "    natoms_phi2 = float(phi2.iloc[-1])\n",
    "\n",
    "    # Standardize Natoms\n",
    "    natoms = np.sqrt(natoms_phi1*natoms_phi2)\n",
    "\n",
    "    # Compute pij\n",
    "    numerator = np.sum((phi1_fingerprint - avg_phi1)*(phi2_fingerprint - avg_phi2))\n",
    "    denominator = natoms*std_phi1*std_phi2\n",
    "    pij = numerator/denominator\n",
    "\n",
    "    return pij\n",
    "\n",
    "n = int(len(df_fingerprints))\n",
    "pij_matrix = np.zeros((n,n))\n",
    "\n",
    "# Iterate over each pair of rows\n",
    "for i in range(n):\n",
    "    for j in range(n):\n",
    "        # Compute the scalar using compute_pij function\n",
    "        pij = compute_pij(df_fingerprints.iloc[i], df_fingerprints.iloc[j])\n",
    "        # Assign the scalar to the corresponding index in zeros_array\n",
    "        pij_matrix[i, j] = pij\n",
    "\n",
    "print(pij_matrix)"
   ]
  },
  {
   "cell_type": "code",
   "execution_count": 5,
   "metadata": {},
   "outputs": [
    {
     "data": {
      "text/plain": [
       "<Axes: >"
      ]
     },
     "execution_count": 5,
     "metadata": {},
     "output_type": "execute_result"
    },
    {
     "data": {
      "image/png": "[encoded data removed]",
      "text/plain": [
       "<Figure size 640x480 with 2 Axes>"
      ]
     },
     "metadata": {},
     "output_type": "display_data"
    }
   ],
   "source": [
    "import seaborn as sns\n",
    "\n",
    "# Calculate the sum of each column\n",
    "column_sums = np.sum(pij_matrix, axis=0)\n",
    "\n",
    "# Normalize each column\n",
    "normalized_matrix = pij_matrix / column_sums\n",
    "\n",
    "# Create a heatmap using Seaborn\n",
    "sns.heatmap(pij_matrix, annot=True, cmap=\"YlGnBu\") "
   ]
  },
  {
   "cell_type": "code",
   "execution_count": 7,
   "metadata": {},
   "outputs": [
    {
     "name": "stdout",
     "output_type": "stream",
     "text": [
      "[[0.19933891 0.19485615 0.19467074 ... 0.00347524 0.00343155 0.00345562]\n",
      " [0.19485615 0.19928837 0.19909704 ... 0.00366331 0.00361908 0.00364473]\n",
      " [0.19467074 0.19909704 0.19928452 ... 0.00367329 0.00362899 0.00365488]\n",
      " ...\n",
      " [0.00347524 0.00366331 0.00367329 ... 0.0013052  0.00130554 0.00130532]\n",
      " [0.00343155 0.00361908 0.00362899 ... 0.00130554 0.00130627 0.00130579]\n",
      " [0.00345562 0.00364473 0.00365488 ... 0.00130532 0.00130579 0.00130552]]\n"
     ]
    }
   ],
   "source": [
    "# Step 1: Calculate the diagonal elements\n",
    "diagonal_elements = np.diag(pij_matrix)\n",
    "\n",
    "# Step 2: Calculate the magnitude of each diagonal element\n",
    "magnitude_diagonal_elements = np.sqrt(np.sum(diagonal_elements ** 2))\n",
    "\n",
    "# Step 3: Divide each column by the magnitude of the corresponding diagonal element\n",
    "normalized_matrix = pij_matrix / magnitude_diagonal_elements\n",
    "\n",
    "print(normalized_matrix)"
   ]
  },
  {
   "cell_type": "code",
   "execution_count": 8,
   "metadata": {},
   "outputs": [
    {
     "data": {
      "text/plain": [
       "array([0.83610179, 0.83588982, 0.83587366, 0.83488505, 0.83494041,\n",
       "       0.83550023, 0.83565424, 0.83498312, 0.83502244, 0.83566514,\n",
       "       0.83526859, 0.83497636, 0.8356722 , 0.83527499, 0.83539328,\n",
       "       0.83534964, 0.83510284, 0.83546845, 0.83501307, 0.83546072,\n",
       "       0.83517956, 0.83515396, 0.83558449, 0.83500447, 0.83556381,\n",
       "       0.05537768, 0.03208823, 0.033227  , 0.03299183, 0.03303652,\n",
       "       0.03326779, 0.03317609, 0.03298799, 0.03322978, 0.03317757,\n",
       "       0.03312926, 0.03322807, 0.03331056, 0.03279672, 0.03302363,\n",
       "       0.03314518, 0.03299913, 0.03303493, 0.0328299 , 0.03289462,\n",
       "       0.03317242, 0.03319623, 0.03289966, 0.03330865, 0.03300633,\n",
       "       0.07507949, 0.051894  , 0.0503173 , 0.04507444, 0.04615708,\n",
       "       0.05514801, 0.046125  , 0.04581237, 0.03932879, 0.04153015,\n",
       "       0.04525375, 0.04366257, 0.04547099, 0.04469214, 0.04469078,\n",
       "       0.0436081 , 0.0442222 , 0.04280692, 0.04643874, 0.04661691,\n",
       "       0.04507311, 0.04185104, 0.04269398, 0.04168868, 0.03945604,\n",
       "       0.05716716, 0.03024102, 0.03051374, 0.02944926, 0.03054055,\n",
       "       0.02956657, 0.03047466, 0.02971141, 0.02946996, 0.03014859,\n",
       "       0.02987298, 0.0298783 , 0.03019452, 0.02986203, 0.03020549,\n",
       "       0.03093203, 0.02966101, 0.02977622, 0.02986068, 0.03027651,\n",
       "       0.02967906, 0.02959515, 0.0305228 , 0.03036297, 0.03004322,\n",
       "       0.03053168, 0.02620674, 0.02574626, 0.02600326, 0.02601538,\n",
       "       0.02583016, 0.02590786, 0.026428  , 0.02616608, 0.02594269,\n",
       "       0.02596712, 0.02600315, 0.0258934 , 0.02571057, 0.02600306,\n",
       "       0.02594942, 0.02617175, 0.02555621, 0.02608578, 0.02610476,\n",
       "       0.02557201, 0.02591164, 0.02587918, 0.02617525, 0.02614069,\n",
       "       0.0073263 , 0.007312  , 0.007308  , 0.0073293 , 0.00733936,\n",
       "       0.00735527, 0.00733912, 0.00733151, 0.00732264, 0.00734897,\n",
       "       0.00734768, 0.00734797, 0.00734749, 0.00734388, 0.00734407,\n",
       "       0.0073695 , 0.00732509, 0.00733816, 0.00733718, 0.00734115,\n",
       "       0.00734098, 0.0073537 , 0.00735703, 0.00735303, 0.00734161,\n",
       "       0.02079292, 0.02026035, 0.02026294, 0.02016498, 0.02029708,\n",
       "       0.02021086, 0.02023602, 0.02034859, 0.02012433, 0.02031201,\n",
       "       0.02023488, 0.02022215, 0.02033211, 0.02031314, 0.02025057,\n",
       "       0.02017688, 0.02012348, 0.02026242, 0.02006875, 0.02034629,\n",
       "       0.02024276, 0.02014151, 0.02026627, 0.02029447, 0.02031587,\n",
       "       0.00690393, 0.00662077, 0.00656648, 0.00612455, 0.00590981,\n",
       "       0.00593061, 0.00640274, 0.00636908, 0.00600565, 0.00592226,\n",
       "       0.00632351, 0.00632802, 0.00595149, 0.00604793, 0.00639399,\n",
       "       0.00612336, 0.00601002, 0.00636863, 0.00608907, 0.00603564,\n",
       "       0.00636353, 0.0059814 , 0.00619595, 0.00628498, 0.00597581,\n",
       "       0.00362235, 0.00324296, 0.00326759, 0.00326365, 0.00325411,\n",
       "       0.00325067, 0.00325293, 0.00325399, 0.0032408 , 0.00325155,\n",
       "       0.00325409, 0.00323768, 0.00324703, 0.0032446 , 0.00325305,\n",
       "       0.00325071, 0.00325329, 0.00325307, 0.00324037, 0.00324988,\n",
       "       0.00325372, 0.00323733, 0.00324606, 0.00324479, 0.00325244,\n",
       "       0.00337074, 0.00304302, 0.00301694, 0.00300952, 0.00304527,\n",
       "       0.0030165 , 0.00301992, 0.00302747, 0.00301368, 0.00302733,\n",
       "       0.00301839, 0.0030175 , 0.00303489, 0.00301618, 0.00301666,\n",
       "       0.00301569, 0.003019  , 0.003024  , 0.00301367, 0.00302585,\n",
       "       0.00301631, 0.00301646, 0.00303206, 0.00301602, 0.00301536,\n",
       "       0.01800876, 0.01729499, 0.01730371, 0.01725298, 0.01730035,\n",
       "       0.01725276, 0.01725922, 0.01726501, 0.0172612 , 0.01727516,\n",
       "       0.01729879, 0.01731028, 0.0172621 , 0.01722747, 0.01731079,\n",
       "       0.01724277, 0.01726135, 0.01723924, 0.01728918, 0.01728473,\n",
       "       0.01729607, 0.0172883 , 0.0172656 , 0.01726249, 0.01724296,\n",
       "       0.00546262, 0.00547457, 0.00546646, 0.00546433, 0.0054688 ,\n",
       "       0.00548313, 0.00547222, 0.00546682, 0.0054773 , 0.00547297,\n",
       "       0.00546956, 0.00546717, 0.00547329, 0.00547099, 0.00547677,\n",
       "       0.0054713 , 0.00546792, 0.00547145, 0.00547229, 0.0054671 ,\n",
       "       0.00547264, 0.00547111, 0.00547451, 0.00547899, 0.00547584])"
      ]
     },
     "execution_count": 8,
     "metadata": {},
     "output_type": "execute_result"
    }
   ],
   "source": [
    "diagonal_elements"
   ]
  },
  {
   "cell_type": "code",
   "execution_count": 13,
   "metadata": {},
   "outputs": [
    {
     "name": "stdout",
     "output_type": "stream",
     "text": [
      "[[1.         0.97775974 0.97684825 ... 2.66260218 2.62698068 2.64693055]\n",
      " [0.97751185 1.         0.99905923 ... 2.8066953  2.77053985 2.79178256]\n",
      " [0.97658171 0.99903993 1.         ... 2.81433828 2.77812537 2.7995635 ]\n",
      " ...\n",
      " [0.01743382 0.01838195 0.01843237 ... 1.         0.99943947 0.999851  ]\n",
      " [0.01721466 0.01816001 0.01821009 ... 1.00025758 1.         1.00020646]\n",
      " [0.0173354  0.01828871 0.01834003 ... 1.00009263 0.99962992 1.        ]]\n"
     ]
    },
    {
     "data": {
      "text/plain": [
       "<Axes: >"
      ]
     },
     "execution_count": 13,
     "metadata": {},
     "output_type": "execute_result"
    },
    {
     "data": {
      "image/png": "[encoded data removed]",
      "text/plain": [
       "<Figure size 640x480 with 2 Axes>"
      ]
     },
     "metadata": {},
     "output_type": "display_data"
    }
   ],
   "source": [
    "# Create a new matrix to store the results\n",
    "new_matrix = np.empty_like(pij_matrix, dtype=float)\n",
    "\n",
    "for idx, column in enumerate(pij_matrix.T):\n",
    "    new_matrix[:, idx] = column / diagonal_elements[idx]\n",
    "\n",
    "print(new_matrix)\n",
    "\n",
    "sns.heatmap(new_matrix, cmap=\"YlGnBu\") "
   ]
  },
  {
   "cell_type": "code",
   "execution_count": 15,
   "metadata": {},
   "outputs": [
    {
     "data": {
      "text/plain": [
       "0.016657299800913017"
      ]
     },
     "execution_count": 15,
     "metadata": {},
     "output_type": "execute_result"
    }
   ],
   "source": [
    "np.max(new_matrix)\n",
    "np.min(new_matrix)"
   ]
  },
  {
   "cell_type": "code",
   "execution_count": null,
   "metadata": {},
   "outputs": [],
   "source": []
  }
 ],
 "metadata": {
  "kernelspec": {
   "display_name": "base",
   "language": "python",
   "name": "python3"
  },
  "language_info": {
   "codemirror_mode": {
    "name": "ipython",
    "version": 3
   },
   "file_extension": ".py",
   "mimetype": "text/x-python",
   "name": "python",
   "nbconvert_exporter": "python",
   "pygments_lexer": "ipython3",
   "version": "3.11.5"
  }
 },
 "nbformat": 4,
 "nbformat_minor": 2
}
