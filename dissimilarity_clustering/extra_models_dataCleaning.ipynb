{
 "cells": [
  {
   "cell_type": "code",
   "execution_count": 11,
   "metadata": {},
   "outputs": [
    {
     "name": "stdout",
     "output_type": "stream",
     "text": [
      "0000-0000.3b_clu-r.hist\n",
      "0001-0001.3b_clu-r.hist\n",
      "0002-0002.3b_clu-r.hist\n",
      "0003-0003.3b_clu-r.hist\n",
      "0004-0004.3b_clu-r.hist\n",
      "0005-0005.3b_clu-r.hist\n",
      "0006-0006.3b_clu-r.hist\n",
      "0007-0007.3b_clu-r.hist\n",
      "0008-0008.3b_clu-r.hist\n",
      "0009-0009.3b_clu-r.hist\n",
      "0010-0010.3b_clu-r.hist\n",
      "0011-0011.3b_clu-r.hist\n",
      "0012-0012.3b_clu-r.hist\n",
      "0013-0013.3b_clu-r.hist\n",
      "0014-0014.3b_clu-r.hist\n",
      "0015-0015.3b_clu-r.hist\n",
      "0016-0016.3b_clu-r.hist\n",
      "0017-0017.3b_clu-r.hist\n",
      "0018-0018.3b_clu-r.hist\n",
      "0019-0019.3b_clu-r.hist\n",
      "0020-0020.3b_clu-r.hist\n",
      "0021-0021.3b_clu-r.hist\n",
      "0022-0022.3b_clu-r.hist\n",
      "0023-0023.3b_clu-r.hist\n",
      "0024-0024.3b_clu-r.hist\n"
     ]
    }
   ],
   "source": [
    "import os\n",
    "import numpy as np\n",
    "import matplotlib.pyplot as plt\n",
    "import pickle\n",
    "\n",
    "# Specify the directory containing your files\n",
    "directory = \"lcbop_pd\"\n",
    "lcbop_list_2br = []\n",
    "lcbop_list_3br = []\n",
    "lcbop_list_4br = []\n",
    "lcbop_list_2bs = []\n",
    "lcbop_list_3bs = []\n",
    "lcbop_list_4bs = []\n",
    "\n",
    "# Get a sorted list of filenames in the directory\n",
    "file_list = sorted(os.listdir(directory))\n",
    "\n",
    "# Iterate through sorted filenames in the directory\n",
    "for filename in file_list:\n",
    "    # Check if the entry is a file\n",
    "    if os.path.isfile(os.path.join(directory, filename)):\n",
    "        # Check if both \"2b\" and \"-r\" are substrings in the file name\n",
    "        if \"2b\" in filename and \"-r\" in filename:\n",
    "            print(filename)\n",
    "\n",
    "            # Load the data from the file\n",
    "            data = np.loadtxt(os.path.join(directory, filename))\n",
    "\n",
    "            # Extract the second column into a list and append to the master list\n",
    "            second_column = data[:, 1].tolist()\n",
    "            lcbop_list_2br.append(second_column)\n",
    "        if \"3b\" in filename and \"-r\" in filename:\n",
    "            print(filename)\n",
    "\n",
    "            # Load the data from the file\n",
    "            data = np.loadtxt(os.path.join(directory, filename))\n",
    "\n",
    "            # Extract the second column into a list and append to the master list\n",
    "            second_column = data[:, 1].tolist()\n",
    "            lcbop_list_3br.append(second_column)\n",
    "        if \"4b\" in filename and \"-r\" in filename:\n",
    "            print(filename)\n",
    "\n",
    "            # Load the data from the file\n",
    "            data = np.loadtxt(os.path.join(directory, filename))\n",
    "\n",
    "            # Extract the second column into a list and append to the master list\n",
    "            second_column = data[:, 1].tolist()\n",
    "            lcbop_list_4br.append(second_column)\n",
    "\n",
    "        ########################\n",
    "        if \"2b\" in filename and \"-s\" in filename:\n",
    "            print(filename)\n",
    "\n",
    "            # Load the data from the file\n",
    "            data = np.loadtxt(os.path.join(directory, filename))\n",
    "\n",
    "            # Extract the second column into a list and append to the master list\n",
    "            second_column = data[:, 1].tolist()\n",
    "            lcbop_list_2bs.append(second_column)\n",
    "        if \"3b\" in filename and \"-s\" in filename:\n",
    "            print(filename)\n",
    "\n",
    "            # Load the data from the file\n",
    "            data = np.loadtxt(os.path.join(directory, filename))\n",
    "\n",
    "            # Extract the second column into a list and append to the master list\n",
    "            second_column = data[:, 1].tolist()\n",
    "            lcbop_list_3bs.append(second_column)\n",
    "        if \"4b\" in filename and \"-s\" in filename:\n",
    "            print(filename)\n",
    "\n",
    "            # Load the data from the file\n",
    "            data = np.loadtxt(os.path.join(directory, filename))\n",
    "\n",
    "            # Extract the second column into a list and append to the master list\n",
    "            second_column = data[:, 1].tolist()\n",
    "            lcbop_list_4bs.append(second_column)\n",
    "lcbop_pd_2br = np.array(lcbop_list_2br)\n",
    "lcbop_pd_3br = np.array(lcbop_list_3br)\n",
    "lcbop_pd_4br = np.array(lcbop_list_4br)\n",
    "lcbop_pd_2bs = np.array(lcbop_list_2bs)\n",
    "lcbop_pd_3bs = np.array(lcbop_list_3bs)\n",
    "lcbop_pd_4bs = np.array(lcbop_list_4bs)"
   ]
  },
  {
   "cell_type": "code",
   "execution_count": 12,
   "metadata": {},
   "outputs": [],
   "source": [
    "\n",
    "\n"
   ]
  },
  {
   "cell_type": "code",
   "execution_count": 15,
   "metadata": {},
   "outputs": [
    {
     "data": {
      "text/plain": [
       "(25, 100)"
      ]
     },
     "execution_count": 15,
     "metadata": {},
     "output_type": "execute_result"
    }
   ],
   "source": []
  },
  {
   "cell_type": "code",
   "execution_count": null,
   "metadata": {},
   "outputs": [],
   "source": []
  }
 ],
 "metadata": {
  "kernelspec": {
   "display_name": "base",
   "language": "python",
   "name": "python3"
  },
  "language_info": {
   "codemirror_mode": {
    "name": "ipython",
    "version": 3
   },
   "file_extension": ".py",
   "mimetype": "text/x-python",
   "name": "python",
   "nbconvert_exporter": "python",
   "pygments_lexer": "ipython3",
   "version": "3.11.5"
  }
 },
 "nbformat": 4,
 "nbformat_minor": 2
}
