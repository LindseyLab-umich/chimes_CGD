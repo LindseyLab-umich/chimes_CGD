{
 "cells": [
  {
   "cell_type": "code",
   "execution_count": 3,
   "metadata": {},
   "outputs": [
    {
     "name": "stdout",
     "output_type": "stream",
     "text": [
      "(310, 100)\n"
     ]
    }
   ],
   "source": [
    "import os\n",
    "import numpy as np\n",
    "\n",
    "# Specify the directory containing your files\n",
    "directory_path = \"all_pd\"\n",
    "\n",
    "# Initialize the master list\n",
    "master_list = []\n",
    "\n",
    "# Iterate through each file in the directory\n",
    "for filename in os.listdir(directory_path):\n",
    "    if filename.endswith('.hist'):\n",
    "        # Construct the full file path\n",
    "        file_path = os.path.join(directory_path, filename)\n",
    "\n",
    "        # Load the data from the file\n",
    "        data = np.loadtxt(file_path)\n",
    "\n",
    "        # Extract the second column into a list and append to the master list\n",
    "        second_column = data[:, 1].tolist()\n",
    "        master_list.append(second_column)\n",
    "\n",
    "# Print or use the master list\n",
    "print(np.shape(master_list))\n"
   ]
  },
  {
   "cell_type": "code",
   "execution_count": null,
   "metadata": {},
   "outputs": [],
   "source": []
  }
 ],
 "metadata": {
  "kernelspec": {
   "display_name": "base",
   "language": "python",
   "name": "python3"
  },
  "language_info": {
   "codemirror_mode": {
    "name": "ipython",
    "version": 3
   },
   "file_extension": ".py",
   "mimetype": "text/x-python",
   "name": "python",
   "nbconvert_exporter": "python",
   "pygments_lexer": "ipython3",
   "version": "3.11.5"
  }
 },
 "nbformat": 4,
 "nbformat_minor": 2
}
