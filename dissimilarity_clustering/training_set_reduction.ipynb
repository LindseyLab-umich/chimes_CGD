{
 "cells": [
  {
   "cell_type": "code",
   "execution_count": 1,
   "metadata": {},
   "outputs": [],
   "source": [
    "import pickle\n",
    "import os\n",
    "import numpy as np\n",
    "import pandas as pd\n",
    "import matplotlib.pyplot as plt\n",
    "import copy"
   ]
  },
  {
   "cell_type": "code",
   "execution_count": 2,
   "metadata": {},
   "outputs": [
    {
     "name": "stdout",
     "output_type": "stream",
     "text": [
      "Current working directory: c:\\Users\\lauba\\Documents\\GitHub\\chimes_CGD-myLLFork\\dissimilarity_clustering\n"
     ]
    }
   ],
   "source": [
    "current_directory = os.getcwd()\n",
    "print(\"Current working directory:\", current_directory)"
   ]
  },
  {
   "cell_type": "code",
   "execution_count": 3,
   "metadata": {},
   "outputs": [
    {
     "name": "stdout",
     "output_type": "stream",
     "text": [
      "training_data_#0000.xyz\n",
      "training_data_#0050.xyz\n",
      "training_data_#0055.xyz\n",
      "training_data_#0060.xyz\n",
      "training_data_#0075.xyz\n",
      "training_data_#0080.xyz\n",
      "training_data_#0110.xyz\n",
      "(300, 180)\n",
      "       2B_0      2B_1      2B_2      2B_3      2B_4      2B_5      2B_6  \\\n",
      "0  0.151940  0.079974  0.039987  0.134957  0.000000  0.039987  0.000000   \n",
      "1  0.151838  0.089548  0.030670  0.107863  0.026939  0.039628  0.000530   \n",
      "2  0.152059  0.091794  0.027968  0.104630  0.029103  0.039305  0.001128   \n",
      "3  0.113888  0.093885  0.074372  0.063481  0.048075  0.037675  0.033869   \n",
      "4  0.118745  0.094125  0.073008  0.061039  0.048168  0.036493  0.032401   \n",
      "\n",
      "       2B_7      2B_8      2B_9  ...  4B_54  4B_55  4B_56  4B_57  4B_58  \\\n",
      "0  0.059981  0.000000  0.064979  ...    0.0    0.0    0.0    0.0    0.0   \n",
      "1  0.059527  0.008709  0.053400  ...    0.0    0.0    0.0    0.0    0.0   \n",
      "2  0.058054  0.005966  0.057973  ...    0.0    0.0    0.0    0.0    0.0   \n",
      "3  0.031662  0.025958  0.021373  ...    0.0    0.0    0.0    0.0    0.0   \n",
      "4  0.030655  0.026413  0.021867  ...    0.0    0.0    0.0    0.0    0.0   \n",
      "\n",
      "   4B_59  labels      Pavg      Pstd  Natoms  \n",
      "0    0.0       0  0.016335  0.025764     216  \n",
      "1    0.0       0  0.016335  0.024411     216  \n",
      "2    0.0       0  0.016335  0.024316     216  \n",
      "3    0.0       0  0.016348  0.020050     216  \n",
      "4    0.0       0  0.016344  0.020228     216  \n",
      "\n",
      "[5 rows x 184 columns]\n"
     ]
    }
   ],
   "source": [
    "# Get the current working directory\n",
    "cwd = os.getcwd()\n",
    "\n",
    "# Define file paths with cwd appended\n",
    "file_path_2b = os.path.join(cwd, \"dft_pds/2b_all_pd\")\n",
    "file_path_3b = os.path.join(cwd, \"dft_pds/3b_all_pd\")\n",
    "file_path_4b = os.path.join(cwd, \"dft_pds/4b_all_pd\")\n",
    "file_path_labels = os.path.join(cwd, \"dft_pds/labels_pd\")\n",
    "file_path_natoms = os.path.join(cwd, \"test_notebooks/energies_per_atom.txt\")\n",
    "\n",
    "# Open pickle files with the updated file paths\n",
    "with open(file_path_2b, 'rb') as pickle_file:\n",
    "    pd_2b = pickle.load(pickle_file)\n",
    "\n",
    "with open(file_path_3b, 'rb') as pickle_file:\n",
    "    pd_3b = pickle.load(pickle_file)\n",
    "\n",
    "with open(file_path_4b, 'rb') as pickle_file:\n",
    "    pd_4b = pickle.load(pickle_file)\n",
    "\n",
    "with open(file_path_labels, 'rb') as pickle_file:\n",
    "    labels = pickle.load(pickle_file)\n",
    "\n",
    "natom_list = []\n",
    "\n",
    "# Open the text file for reading\n",
    "with open(file_path_natoms, 'r') as file:\n",
    "\n",
    "    # Read the contents of the file\n",
    "    lines = file.readlines()[1:]\n",
    "\n",
    "    # Iterate through each line\n",
    "    for line in lines:\n",
    "\n",
    "        # Split the line into words\n",
    "        words = line.split()\n",
    "        natoms = line.split(\"|\")[1].strip()\n",
    "\n",
    "        # Extract the last word, assuming it's a number\n",
    "        last_number = float(words[-1])\n",
    "        if words[0][-1] == 'z':\n",
    "            print(words[0])\n",
    "            continue\n",
    "        natom_list.append(natoms)\n",
    "\n",
    "natom_list = np.array(natom_list[:-10])\n",
    "\n",
    "# Combine the arrays along the second axis (axis=1)\n",
    "all_array = np.concatenate((pd_2b, pd_3b, pd_4b), axis=2)\n",
    "all_array = all_array.reshape(-1, all_array.shape[2])\n",
    "print(np.shape(all_array))\n",
    "df_fingerprints = pd.DataFrame(all_array)\n",
    "\n",
    "# Define the column labels for each set of columns\n",
    "column_labels_2b = [f'2B_{i}' for i in range(60)]\n",
    "column_labels_3b = [f'3B_{i}' for i in range(60)]\n",
    "column_labels_4b = [f'4B_{i}' for i in range(60)]\n",
    "\n",
    "# Assign the column labels to the DataFrame\n",
    "column_labels = column_labels_2b + column_labels_3b + column_labels_4b\n",
    "df_fingerprints.columns = column_labels\n",
    "\n",
    "# Add a new column \"labels\" to the DataFrame and assign the new vector to it\n",
    "df_fingerprints['labels'] = labels\n",
    "\n",
    "# Calculate the row-wise mean using `mean(axis=1)`\n",
    "row_avg = df_fingerprints.mean(axis=1)\n",
    "\n",
    "# Append the calculated row-wise mean as a new column named \"Pavg\"\n",
    "df_fingerprints['Pavg'] = row_avg\n",
    "\n",
    "# Calculate the row-wise standard deviation using `std(axis=1)`\n",
    "row_std = df_fingerprints.std(axis=1)\n",
    "\n",
    "# Append the calculated row-wise standard deviation as a new column named \"Pstd\"\n",
    "df_fingerprints['Pstd'] = row_std\n",
    "\n",
    "# Append Natoms to Dataframe\n",
    "df_fingerprints['Natoms'] = natom_list\n",
    "\n",
    "# Display the DataFrame with the new column\n",
    "print(df_fingerprints.head())\n"
   ]
  },
  {
   "cell_type": "code",
   "execution_count": 4,
   "metadata": {},
   "outputs": [
    {
     "name": "stdout",
     "output_type": "stream",
     "text": [
      "Row with the smallest pij value:\n",
      "2B_0      0.097704\n",
      "2B_1      0.082399\n",
      "2B_2      0.070194\n",
      "2B_3      0.061471\n",
      "2B_4      0.053926\n",
      "            ...   \n",
      "4B_59          0.0\n",
      "labels          11\n",
      "Pavg      0.077133\n",
      "Pstd      0.814352\n",
      "Natoms         200\n",
      "Name: 275, Length: 184, dtype: object\n",
      "First 5 rows with the smallest pij values:\n",
      "Row index: 275, pij value: -0.039372287981302476\n",
      "Row index: 278, pij value: -0.03937225052206747\n",
      "Row index: 277, pij value: -0.03937220395222774\n",
      "Row index: 282, pij value: -0.039372196039599384\n",
      "Row index: 294, pij value: -0.039372189970796695\n"
     ]
    },
    {
     "data": {
      "image/png": "[encoded data removed]",
      "text/plain": [
       "<Figure size 432x288 with 1 Axes>"
      ]
     },
     "metadata": {
      "needs_background": "light"
     },
     "output_type": "display_data"
    }
   ],
   "source": [
    "# Proof of concept\n",
    "\n",
    "# Choose arbitrary starting point\n",
    "phi1 = df_fingerprints.iloc[0]\n",
    "phi1_fingerprint = phi1.iloc[:-4]\n",
    "avg_phi1 = phi1.iloc[-3]\n",
    "std_phi1 = phi1.iloc[-2]\n",
    "natoms_phi1 = float(phi1.iloc[-1])\n",
    "\n",
    "# Compute correlation\n",
    "diff_phi1 = np.sum(phi1_fingerprint-avg_phi1)\n",
    "pij_list = []\n",
    "min_pij = np.inf  # Initialize min_pij to positive infinity\n",
    "min_row_index = None  # Initialize min_row_index to None\n",
    "smallest_pij_values = [(np.inf, None)] * 5\n",
    "\n",
    "# Iterate over each row in df_fingerprints\n",
    "for index, row in df_fingerprints.iterrows():\n",
    "    # Skip the first row as it was already selected as phi1\n",
    "    if index == 0:\n",
    "        continue\n",
    "    \n",
    "    # Select the fingerprint and relevant values for phi2\n",
    "    phi2_fingerprint = row.iloc[:-4]\n",
    "    avg_phi2 = row.iloc[-3]\n",
    "    std_phi2 = row.iloc[-2]\n",
    "    natoms_phi2 = float(row.iloc[-1])\n",
    "\n",
    "    # Compute correlation\n",
    "    diff_phi2 = np.sum(phi2_fingerprint - avg_phi2)\n",
    "    numerator = diff_phi1 * diff_phi2\n",
    "    denominator = natoms_phi1 * std_phi1 * std_phi2\n",
    "    pij = numerator / denominator\n",
    "    pij_list.append(pij)\n",
    "        # Update min_pij and min_row_index if current pij is smaller\n",
    "    if pij < min_pij:\n",
    "        min_pij = pij\n",
    "        min_row_index = index\n",
    "    # Update the list of smallest pij values\n",
    "    smallest_pij_values.sort()  # Sort the list to ensure smallest values are at the beginning\n",
    "    if pij < smallest_pij_values[-1][0]:\n",
    "        smallest_pij_values[-1] = (pij, index)\n",
    "\n",
    "plt.plot(sorted(pij_list))\n",
    "# Print the row with the smallest pij value\n",
    "print(\"Row with the smallest pij value:\")\n",
    "print(df_fingerprints.iloc[min_row_index])\n",
    "\n",
    "# Print the first 5 rows with the smallest pij values\n",
    "print(\"First 5 rows with the smallest pij values:\")\n",
    "for pij_value, row_index in smallest_pij_values:\n",
    "    print(f\"Row index: {row_index}, pij value: {pij_value}\")\n",
    "    #print(df_fingerprints.iloc[row_index])\n",
    "\n",
    "# In theory, would add these frames to the TS, but they are all from the same SP -> probably correlated\n"
   ]
  },
  {
   "cell_type": "code",
   "execution_count": 5,
   "metadata": {},
   "outputs": [
    {
     "name": "stdout",
     "output_type": "stream",
     "text": [
      "(12, 25, 184)\n"
     ]
    }
   ],
   "source": [
    "# Define the size of each chunk\n",
    "chunk_size = 25\n",
    "\n",
    "# Initialize an empty list to store the chunks\n",
    "chunk_list = []\n",
    "\n",
    "# Iterate over the rows of df_fingerprints in chunks of size chunk_size\n",
    "for i in range(0, len(df_fingerprints), chunk_size):\n",
    "    # Select a chunk of rows\n",
    "    chunk = df_fingerprints.iloc[i:i+chunk_size]\n",
    "    \n",
    "    # Assign the chunk to a variable with a dynamic name (e.g., sp1, sp2, ...)\n",
    "    globals()[f'sp{i//chunk_size + 1}'] = chunk\n",
    "    \n",
    "    # Append the chunk to the list\n",
    "    chunk_list.append(chunk)\n",
    "\n",
    "# Now, sp1, sp2, ..., will contain the first 25, next 25, ..., rows of df_fingerprints\n",
    "print(np.shape(chunk_list))\n"
   ]
  },
  {
   "cell_type": "code",
   "execution_count": 6,
   "metadata": {},
   "outputs": [
    {
     "name": "stdout",
     "output_type": "stream",
     "text": [
      "Adding Frame 0\n",
      "(24, 184)\n",
      "(25, 184)\n",
      "(25, 184)\n",
      "(25, 184)\n",
      "(25, 184)\n",
      "(25, 184)\n",
      "(25, 184)\n",
      "(25, 184)\n",
      "(25, 184)\n",
      "(25, 184)\n",
      "(24, 184)\n",
      "(25, 184)\n"
     ]
    },
    {
     "name": "stderr",
     "output_type": "stream",
     "text": [
      "c:\\Users\\lauba\\Anaconda3\\lib\\site-packages\\pandas\\core\\frame.py:4906: SettingWithCopyWarning: \n",
      "A value is trying to be set on a copy of a slice from a DataFrame\n",
      "\n",
      "See the caveats in the documentation: https://pandas.pydata.org/pandas-docs/stable/user_guide/indexing.html#returning-a-view-versus-a-copy\n",
      "  return super().drop(\n"
     ]
    }
   ],
   "source": [
    "#print(chunk_list[0].iloc[0])\n",
    "def compute_pij(phi1, phi2):\n",
    "\n",
    "    # Compute statistics for phi1\n",
    "    phi1_fingerprint = phi1.iloc[:-4]\n",
    "    avg_phi1 = phi1.iloc[-3]\n",
    "    std_phi1 = phi1.iloc[-2]\n",
    "    natoms_phi1 = float(phi1.iloc[-1])\n",
    "\n",
    "    # Compute statistics for phi2\n",
    "    phi2_fingerprint = phi2.iloc[:-4]\n",
    "    avg_phi2 = phi2.iloc[-3]\n",
    "    std_phi2 = phi2.iloc[-2]\n",
    "    natoms_phi2 = float(phi2.iloc[-1])\n",
    "\n",
    "    # Standardize Natoms\n",
    "    natoms = np.sqrt(natoms_phi1*natoms_phi2) # Modification to Pij from BL\n",
    "\n",
    "    # Compute Pij\n",
    "    diff_phi1 = np.sum(phi1_fingerprint-avg_phi1)\n",
    "    diff_phi2 = np.sum(phi2_fingerprint-avg_phi2)\n",
    "    numerator = diff_phi1*diff_phi2\n",
    "    denominator = natoms*std_phi1*std_phi2\n",
    "    pij = numerator/denominator\n",
    "\n",
    "    return pij\n",
    "\n",
    "# Initialize values\n",
    "previous_phi = chunk_list[0].iloc[0] # Choose first frame of simulation\n",
    "previous_sp = chunk_list[0].iloc[0][-4]\n",
    "current_sp = previous_sp\n",
    "removal_chunk_list = copy.copy(chunk_list)\n",
    "print(f\"Adding Frame 0\")\n",
    "training_set = [previous_phi]\n",
    "training_frames = [current_sp]\n",
    "\n",
    "# Set minimization initiazation\n",
    "min_pij = np.inf  # Initialize min_pij to positive infinity\n",
    "min_row_index = None  # Initialize min_row_index to None\n",
    "\n",
    "for sp_index, sp in enumerate(removal_chunk_list):\n",
    "    if sp_index == current_sp or sp_index == previous_sp:\n",
    "        continue\n",
    "    for index, row in sp.iterrows():\n",
    "        current_phi = row\n",
    "        current_sp = current_phi.iloc[-4]\n",
    "        pij = compute_pij(previous_phi, current_phi)\n",
    "        if pij < min_pij:\n",
    "            min_pij = pij\n",
    "            min_row_index = index\n",
    "            min_row = current_phi\n",
    "            min_sp = current_sp\n",
    "\n",
    "training_set.append(min_row)\n",
    "training_frames.append(min_row_index)\n",
    "\n",
    "# Remove Starting Frame (One Time Thing)\n",
    "for sp_index, sp in enumerate(removal_chunk_list):\n",
    "    if sp_index == previous_sp:\n",
    "        for index, row in sp.iterrows():\n",
    "            if index == 0:\n",
    "                sp.drop(index, inplace=True)\n",
    "    else:\n",
    "        continue\n",
    "\n",
    "# Remove chosen frame\n",
    "for sp_index, sp in enumerate(removal_chunk_list):\n",
    "    if sp_index == min_sp:\n",
    "        for index, row in sp.iterrows():\n",
    "            if index == min_row_index:\n",
    "                sp.drop(index, inplace=True)\n",
    "    else:\n",
    "        continue\n",
    "\n",
    "for i in removal_chunk_list:\n",
    "    print(np.shape(i))\n",
    "\n",
    "# Start 2nd iteration by removing first frame "
   ]
  },
  {
   "cell_type": "code",
   "execution_count": 8,
   "metadata": {},
   "outputs": [
    {
     "data": {
      "text/plain": [
       "[0, 10]"
      ]
     },
     "execution_count": 8,
     "metadata": {},
     "output_type": "execute_result"
    }
   ],
   "source": [
    "training_frames"
   ]
  },
  {
   "cell_type": "code",
   "execution_count": null,
   "metadata": {},
   "outputs": [],
   "source": []
  }
 ],
 "metadata": {
  "kernelspec": {
   "display_name": "base",
   "language": "python",
   "name": "python3"
  },
  "language_info": {
   "codemirror_mode": {
    "name": "ipython",
    "version": 3
   },
   "file_extension": ".py",
   "mimetype": "text/x-python",
   "name": "python",
   "nbconvert_exporter": "python",
   "pygments_lexer": "ipython3",
   "version": "3.9.7"
  }
 },
 "nbformat": 4,
 "nbformat_minor": 2
}
