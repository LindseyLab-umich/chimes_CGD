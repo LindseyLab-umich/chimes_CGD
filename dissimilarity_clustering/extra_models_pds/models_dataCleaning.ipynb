{
 "cells": [
  {
   "cell_type": "code",
   "execution_count": 31,
   "metadata": {},
   "outputs": [],
   "source": [
    "import pickle\n",
    "import numpy as np\n",
    "import matplotlib.pyplot as plt\n",
    "import os\n"
   ]
  },
  {
   "cell_type": "code",
   "execution_count": 32,
   "metadata": {},
   "outputs": [
    {
     "name": "stdout",
     "output_type": "stream",
     "text": [
      "/Users/blaubach/chimes_CGD-myLLFork/dissimilarity_clustering/extra_models_pds/rebo_pd_r/0000-0000.2b_clu-r.hist\n",
      "/Users/blaubach/chimes_CGD-myLLFork/dissimilarity_clustering/extra_models_pds/rebo_pd_r/0001-0001.2b_clu-r.hist\n",
      "/Users/blaubach/chimes_CGD-myLLFork/dissimilarity_clustering/extra_models_pds/rebo_pd_r/0002-0002.2b_clu-r.hist\n",
      "/Users/blaubach/chimes_CGD-myLLFork/dissimilarity_clustering/extra_models_pds/rebo_pd_r/0003-0003.2b_clu-r.hist\n",
      "/Users/blaubach/chimes_CGD-myLLFork/dissimilarity_clustering/extra_models_pds/rebo_pd_r/0004-0004.2b_clu-r.hist\n",
      "/Users/blaubach/chimes_CGD-myLLFork/dissimilarity_clustering/extra_models_pds/rebo_pd_r/0005-0005.2b_clu-r.hist\n",
      "/Users/blaubach/chimes_CGD-myLLFork/dissimilarity_clustering/extra_models_pds/rebo_pd_r/0006-0006.2b_clu-r.hist\n",
      "/Users/blaubach/chimes_CGD-myLLFork/dissimilarity_clustering/extra_models_pds/rebo_pd_r/0007-0007.2b_clu-r.hist\n",
      "/Users/blaubach/chimes_CGD-myLLFork/dissimilarity_clustering/extra_models_pds/rebo_pd_r/0008-0008.2b_clu-r.hist\n",
      "/Users/blaubach/chimes_CGD-myLLFork/dissimilarity_clustering/extra_models_pds/rebo_pd_r/0009-0009.2b_clu-r.hist\n",
      "/Users/blaubach/chimes_CGD-myLLFork/dissimilarity_clustering/extra_models_pds/rebo_pd_r/0010-0010.2b_clu-r.hist\n",
      "/Users/blaubach/chimes_CGD-myLLFork/dissimilarity_clustering/extra_models_pds/rebo_pd_r/0011-0011.2b_clu-r.hist\n",
      "/Users/blaubach/chimes_CGD-myLLFork/dissimilarity_clustering/extra_models_pds/rebo_pd_r/0012-0012.2b_clu-r.hist\n",
      "/Users/blaubach/chimes_CGD-myLLFork/dissimilarity_clustering/extra_models_pds/rebo_pd_r/0013-0013.2b_clu-r.hist\n",
      "/Users/blaubach/chimes_CGD-myLLFork/dissimilarity_clustering/extra_models_pds/rebo_pd_r/0014-0014.2b_clu-r.hist\n",
      "/Users/blaubach/chimes_CGD-myLLFork/dissimilarity_clustering/extra_models_pds/rebo_pd_r/0015-0015.2b_clu-r.hist\n",
      "/Users/blaubach/chimes_CGD-myLLFork/dissimilarity_clustering/extra_models_pds/rebo_pd_r/0016-0016.2b_clu-r.hist\n",
      "/Users/blaubach/chimes_CGD-myLLFork/dissimilarity_clustering/extra_models_pds/rebo_pd_r/0017-0017.2b_clu-r.hist\n",
      "/Users/blaubach/chimes_CGD-myLLFork/dissimilarity_clustering/extra_models_pds/rebo_pd_r/0018-0018.2b_clu-r.hist\n",
      "/Users/blaubach/chimes_CGD-myLLFork/dissimilarity_clustering/extra_models_pds/rebo_pd_r/0019-0019.2b_clu-r.hist\n",
      "/Users/blaubach/chimes_CGD-myLLFork/dissimilarity_clustering/extra_models_pds/rebo_pd_r/0020-0020.2b_clu-r.hist\n",
      "/Users/blaubach/chimes_CGD-myLLFork/dissimilarity_clustering/extra_models_pds/rebo_pd_r/0021-0021.2b_clu-r.hist\n",
      "/Users/blaubach/chimes_CGD-myLLFork/dissimilarity_clustering/extra_models_pds/rebo_pd_r/0022-0022.2b_clu-r.hist\n",
      "/Users/blaubach/chimes_CGD-myLLFork/dissimilarity_clustering/extra_models_pds/rebo_pd_r/0023-0023.2b_clu-r.hist\n",
      "/Users/blaubach/chimes_CGD-myLLFork/dissimilarity_clustering/extra_models_pds/rebo_pd_r/0024-0024.2b_clu-r.hist\n"
     ]
    }
   ],
   "source": [
    "# Obtain pickle files for P(d) models\n",
    "body = \"2b\"\n",
    "transformation = \"r\"\n",
    "model = \"rebo\"\n",
    "directory = os.path.join(os.getcwd(), f'{model}_pd_{transformation}')\n",
    "\n",
    "# Get a list of files in the directory\n",
    "files = os.listdir(directory)\n",
    "\n",
    "# Filter by body\n",
    "filtered_files = [file for file in files if body in file]\n",
    "\n",
    "# Sort the filtered list of files\n",
    "sorted_files = sorted(filtered_files)\n",
    "\n",
    "all_data = []\n",
    "for file_name in sorted_files:\n",
    "    file_path = os.path.join(directory, file_name)\n",
    "    print(file_path)\n",
    "    with open(file_path, 'r') as file:\n",
    "        lines = file.readlines()\n",
    "        second_column_entries = []\n",
    "        for line in lines[:60]:\n",
    "            columns = line.split()\n",
    "            if len(columns) >= 2:\n",
    "                second_column_entry = float(columns[1])\n",
    "                second_column_entries.append(second_column_entry)\n",
    "        all_data.append(second_column_entries)\n",
    "\n",
    "# Write the object to a pickle file\n",
    "pickle_filename = f\"{model}_pd_{body}{transformation}.ary\"\n",
    "save_path = os.path.join(directory, pickle_filename)\n",
    "with open(save_path, 'wb') as pickle_file:\n",
    "    pickle.dump(np.array(all_data), pickle_file)\n"
   ]
  },
  {
   "cell_type": "code",
   "execution_count": null,
   "metadata": {},
   "outputs": [],
   "source": []
  }
 ],
 "metadata": {
  "kernelspec": {
   "display_name": "base",
   "language": "python",
   "name": "python3"
  },
  "language_info": {
   "codemirror_mode": {
    "name": "ipython",
    "version": 3
   },
   "file_extension": ".py",
   "mimetype": "text/x-python",
   "name": "python",
   "nbconvert_exporter": "python",
   "pygments_lexer": "ipython3",
   "version": "3.11.5"
  }
 },
 "nbformat": 4,
 "nbformat_minor": 2
}
